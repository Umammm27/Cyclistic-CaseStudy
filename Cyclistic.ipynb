{
  "nbformat": 4,
  "nbformat_minor": 0,
  "metadata": {
    "colab": {
      "provenance": []
    },
    "kernelspec": {
      "name": "python3",
      "display_name": "Python 3"
    },
    "language_info": {
      "name": "python"
    }
  },
  "cells": [
    {
      "cell_type": "code",
      "source": [
        "import pandas as pd\n",
        "from google.colab import drive"
      ],
      "metadata": {
        "id": "N-nWRY5ydfJS"
      },
      "execution_count": null,
      "outputs": []
    },
    {
      "cell_type": "code",
      "source": [
        "from google.colab import drive\n",
        "drive.mount('/content/drive')"
      ],
      "metadata": {
        "id": "TY4sjDi5Ece1"
      },
      "execution_count": null,
      "outputs": []
    },
    {
      "cell_type": "code",
      "source": [
        "data1 = pd.read_csv('/content/drive/My Drive/CSV/TRIP_DATA_01.csv')\n",
        "data2 = pd.read_csv('/content/drive/My Drive/CSV/TRIP_DATA_02.csv')\n",
        "data3 = pd.read_csv('/content/drive/My Drive/CSV/TRIP_DATA_03.csv')\n",
        "data4 = pd.read_csv('/content/drive/My Drive/CSV/TRIP_DATA_04.csv')\n",
        "data5 = pd.read_csv('/content/drive/My Drive/CSV/TRIP_DATA_05.csv')\n",
        "data6 = pd.read_csv('/content/drive/My Drive/CSV/TRIP_DATA_06.csv')\n",
        "data7 = pd.read_csv('/content/drive/My Drive/CSV/TRIP_DATA_07.csv')\n",
        "data8 = pd.read_csv('/content/drive/My Drive/CSV/TRIP_DATA_08.csv')\n",
        "data9 = pd.read_csv('/content/drive/My Drive/CSV/TRIP_DATA_09.csv')\n",
        "data10 = pd.read_csv('/content/drive/My Drive/CSV/TRIP_DATA_10.csv')\n",
        "data11 = pd.read_csv('/content/drive/My Drive/CSV/TRIP_DATA_11.csv')\n",
        "data12 = pd.read_csv('/content/drive/My Drive/CSV/TRIP_DATA_12.csv')\n"
      ],
      "metadata": {
        "id": "e-SUZF_EEwFc"
      },
      "execution_count": null,
      "outputs": []
    },
    {
      "cell_type": "code",
      "source": [
        "frames = [data1, data2, data3, data4, data5, data6, data7, data8, data9, data10, data11, data12]\n",
        "result = pd.concat(frames).drop_duplicates().reset_index(drop=True)"
      ],
      "metadata": {
        "id": "fe2LJP3zFHs1"
      },
      "execution_count": null,
      "outputs": []
    },
    {
      "cell_type": "code",
      "source": [
        "# result.to_csv('1year.csv', index = False)"
      ],
      "metadata": {
        "id": "BQhaHFVKih-8"
      },
      "execution_count": null,
      "outputs": []
    },
    {
      "cell_type": "code",
      "source": [
        "day = {\n",
        "      1 : 'Sunday',\n",
        "      2 : 'Monday',\n",
        "      3 : 'Tuesday',\n",
        "      4 : 'Wednesday',\n",
        "      5 : 'Thursday',\n",
        "      6 : 'Friday',\n",
        "      7 : 'Saturday'\n",
        "}\n",
        "month = {\n",
        "      1 : 'Jan',\n",
        "      2 : 'Feb',\n",
        "      3 : 'Mar',\n",
        "      4 : 'Apr',\n",
        "      5 : 'May',\n",
        "      6 : 'Jun',\n",
        "      7 : 'Jul',\n",
        "      8 : 'Aug',\n",
        "      9 : 'Sep',\n",
        "      10: 'Oct',\n",
        "      11: 'Nov',\n",
        "      12: 'Dec'\n",
        "}"
      ],
      "metadata": {
        "id": "JlOE2wwgLbIQ"
      },
      "execution_count": null,
      "outputs": []
    },
    {
      "cell_type": "code",
      "source": [
        "result['day_of_week'] = result['day_of_week'].map(day).astype('object')"
      ],
      "metadata": {
        "id": "W9fb7yKvvv13"
      },
      "execution_count": null,
      "outputs": []
    },
    {
      "cell_type": "code",
      "source": [
        "result['ride_month'] = result['ride_month'].map(month).astype('object')"
      ],
      "metadata": {
        "id": "vcOYHWyjkRfT"
      },
      "execution_count": null,
      "outputs": []
    },
    {
      "cell_type": "code",
      "source": [
        "result.tail()"
      ],
      "metadata": {
        "id": "I1k-M2ivwLej"
      },
      "execution_count": null,
      "outputs": []
    },
    {
      "cell_type": "code",
      "source": [
        "result['ride_id'].count()"
      ],
      "metadata": {
        "id": "LKRhYC6e532A"
      },
      "execution_count": null,
      "outputs": []
    },
    {
      "cell_type": "code",
      "source": [
        "result['member_casual'].value_counts()"
      ],
      "metadata": {
        "id": "j_mTOBchynXe"
      },
      "execution_count": null,
      "outputs": []
    },
    {
      "cell_type": "code",
      "source": [
        "result['ride_length'].mean()"
      ],
      "metadata": {
        "id": "sqOVH9cJ5_61"
      },
      "execution_count": null,
      "outputs": []
    },
    {
      "cell_type": "code",
      "source": [
        "result['ride_month'].value_counts()"
      ],
      "metadata": {
        "id": "84XU9X_ThXwg"
      },
      "execution_count": null,
      "outputs": []
    },
    {
      "cell_type": "code",
      "source": [
        "result['rideable_type'].value_counts()"
      ],
      "metadata": {
        "id": "zPBpdaeKkR0E"
      },
      "execution_count": null,
      "outputs": []
    },
    {
      "cell_type": "code",
      "source": [
        "value_count_start = result['start_station_name'].value_counts()\n",
        "value_count_start.head(10)"
      ],
      "metadata": {
        "id": "skmWhtK9tW1O"
      },
      "execution_count": null,
      "outputs": []
    },
    {
      "cell_type": "code",
      "source": [
        "value_count_end = result['end_station_name'].value_counts()\n",
        "value_count_end.head(10)"
      ],
      "metadata": {
        "id": "4nCzqjWfvcCk"
      },
      "execution_count": null,
      "outputs": []
    },
    {
      "cell_type": "code",
      "source": [
        "member = result[result['member_casual'].isin(['member'])].iloc[:, :]"
      ],
      "metadata": {
        "id": "bltZeJFx-q3D"
      },
      "execution_count": null,
      "outputs": []
    },
    {
      "cell_type": "code",
      "source": [
        "member['ride_id'].count()"
      ],
      "metadata": {
        "id": "PYrtSniX_gCV"
      },
      "execution_count": null,
      "outputs": []
    },
    {
      "cell_type": "code",
      "source": [
        "member['ride_length'].mean()"
      ],
      "metadata": {
        "id": "k0MjgIk6_vjT"
      },
      "execution_count": null,
      "outputs": []
    },
    {
      "cell_type": "code",
      "source": [
        "member['ride_month'].value_counts()"
      ],
      "metadata": {
        "id": "nTdPiGMJfsaI"
      },
      "execution_count": null,
      "outputs": []
    },
    {
      "cell_type": "code",
      "source": [
        "member['day_of_week'].value_counts()"
      ],
      "metadata": {
        "id": "mhBHYlWwhITT"
      },
      "execution_count": null,
      "outputs": []
    },
    {
      "cell_type": "code",
      "source": [
        "member['rideable_type'].value_counts()"
      ],
      "metadata": {
        "id": "VQezsn9CkyzO"
      },
      "execution_count": null,
      "outputs": []
    },
    {
      "cell_type": "code",
      "source": [
        "member_count_start = member['start_station_name'].value_counts()\n",
        "member_count_start.head(10)"
      ],
      "metadata": {
        "id": "Nzp5-qd0wnzj"
      },
      "execution_count": null,
      "outputs": []
    },
    {
      "cell_type": "code",
      "source": [
        "member_count_end = member['end_station_name'].value_counts()\n",
        "member_count_end.head(10)"
      ],
      "metadata": {
        "id": "XONe8fvlwxg_"
      },
      "execution_count": null,
      "outputs": []
    },
    {
      "cell_type": "code",
      "source": [
        "casual = result[result['member_casual'].isin(['casual'])].iloc[:,:]\n",
        "casual.head()"
      ],
      "metadata": {
        "id": "3z6cHFXuAAz_"
      },
      "execution_count": null,
      "outputs": []
    },
    {
      "cell_type": "code",
      "source": [
        "casual['ride_id'].count()"
      ],
      "metadata": {
        "id": "xRm4lxqaAoyv"
      },
      "execution_count": null,
      "outputs": []
    },
    {
      "cell_type": "code",
      "source": [
        "casual['ride_length'].mean()"
      ],
      "metadata": {
        "id": "qa5g1klNAuku"
      },
      "execution_count": null,
      "outputs": []
    },
    {
      "cell_type": "code",
      "source": [
        "casual['ride_month'].value_counts()"
      ],
      "metadata": {
        "id": "flFi_3apj9Gw"
      },
      "execution_count": null,
      "outputs": []
    },
    {
      "cell_type": "code",
      "source": [
        "casual['day_of_week'].value_counts()"
      ],
      "metadata": {
        "id": "BJAo6yXtkElT"
      },
      "execution_count": null,
      "outputs": []
    },
    {
      "cell_type": "code",
      "source": [
        "casual['rideable_type'].value_counts()"
      ],
      "metadata": {
        "id": "Gwg5TQC-k5gH"
      },
      "execution_count": null,
      "outputs": []
    },
    {
      "cell_type": "code",
      "source": [
        "casual_count_start = casual['start_station_name'].value_counts()\n",
        "casual_count_start.head(10)"
      ],
      "metadata": {
        "id": "qcXoZsZRxBsC"
      },
      "execution_count": null,
      "outputs": []
    },
    {
      "cell_type": "code",
      "source": [
        "casual_count_end = casual['end_station_name'].value_counts()\n",
        "casual_count_end.head(10)"
      ],
      "metadata": {
        "id": "SLV4QJzYxJGM"
      },
      "execution_count": null,
      "outputs": []
    },
    {
      "cell_type": "code",
      "source": [
        "print(\"Overall Trip : \")\n",
        "print(\"Peak Season : \" + (result['season'].mode().values[0]))\n",
        "print(\"Peak Day : \" + (result['day_of_week'].mode().values[0]))\n",
        "print(\"Peak Month : \" + (result['ride_month'].mode().values[0]))\n",
        "print(\"Favorite Bike : \" + (result['rideable_type'].mode().values[0]))\n",
        "print(\"Favorite Starting Station : \" + (result['start_station_name'].mode().values[0]))\n",
        "print(\"Favorite Ending Station : \" + (result['end_station_name'].mode().values[0]))"
      ],
      "metadata": {
        "id": "9Ex7EMPDuhqD"
      },
      "execution_count": null,
      "outputs": []
    },
    {
      "cell_type": "code",
      "source": [
        "print(\"MEMBER : \")\n",
        "print(\"Peak Season : \" + (member['season'].mode().values[0]))\n",
        "print(\"Peak Day : \" + (member['day_of_week'].mode().values[0]))\n",
        "print(\"Peak Month : \" + (member['ride_month'].mode().values[0]))\n",
        "print(\"Favorite Bike : \" + (member['rideable_type'].mode().values[0]))\n",
        "print(\"Favorite Starting Station : \" + (member['start_station_name'].mode().values[0]))\n",
        "print(\"Favorite Ending Station : \" + (member['end_station_name'].mode().values[0]))"
      ],
      "metadata": {
        "id": "p8_uK_yRujpV"
      },
      "execution_count": null,
      "outputs": []
    },
    {
      "cell_type": "code",
      "source": [
        "print(\"Casual : \")\n",
        "print(\"Peak Season : \" + (casual['season'].mode().values[0]))\n",
        "print(\"Peak Day : \" + (casual['day_of_week'].mode().values[0]))\n",
        "print(\"Peak Month : \" + (casual['ride_month'].mode().values[0]))\n",
        "print(\"Favorite Bike : \" + (casual['rideable_type'].mode().values[0]))\n",
        "print(\"Favorite Starting Station : \" + (casual['start_station_name'].mode().values[0]))\n",
        "print(\"Favorite Ending Station : \" + (casual['end_station_name'].mode().values[0]))"
      ],
      "metadata": {
        "id": "ge8afXnoCtn0"
      },
      "execution_count": null,
      "outputs": []
    }
  ]
}